{
 "cells": [
  {
   "cell_type": "code",
   "execution_count": 1,
   "metadata": {},
   "outputs": [],
   "source": [
    "import torch \n",
    "import torch.nn as nn \n",
    "import torch.nn.functional as F\n",
    "\n",
    "import pandas as pd\n",
    "import numpy as np\n",
    "import matplotlib.pyplot as plt"
   ]
  },
  {
   "cell_type": "code",
   "execution_count": 2,
   "metadata": {},
   "outputs": [],
   "source": [
    "df = pd.read_csv('data.csv')"
   ]
  },
  {
   "cell_type": "code",
   "execution_count": 3,
   "metadata": {},
   "outputs": [
    {
     "data": {
      "text/plain": [
       "Index(['Income', 'Age', 'Dependents', 'Occupation', 'City_Tier', 'Rent',\n",
       "       'Loan_Repayment', 'Insurance', 'Groceries', 'Transport', 'Eating_Out',\n",
       "       'Entertainment', 'Utilities', 'Healthcare', 'Education',\n",
       "       'Miscellaneous', 'Desired_Savings_Percentage', 'Desired_Savings',\n",
       "       'Disposable_Income', 'Potential_Savings_Groceries',\n",
       "       'Potential_Savings_Transport', 'Potential_Savings_Eating_Out',\n",
       "       'Potential_Savings_Entertainment', 'Potential_Savings_Utilities',\n",
       "       'Potential_Savings_Healthcare', 'Potential_Savings_Education',\n",
       "       'Potential_Savings_Miscellaneous'],\n",
       "      dtype='object')"
      ]
     },
     "execution_count": 3,
     "metadata": {},
     "output_type": "execute_result"
    }
   ],
   "source": [
    "df.columns"
   ]
  },
  {
   "cell_type": "code",
   "execution_count": 4,
   "metadata": {},
   "outputs": [],
   "source": [
    "X = df[['Income', 'Age', 'Dependents', 'Rent',\n",
    "       'Loan_Repayment', 'Insurance', 'Groceries', 'Transport', 'Eating_Out',\n",
    "       'Entertainment', 'Utilities', 'Healthcare', 'Education',\n",
    "       'Miscellaneous', 'Desired_Savings_Percentage', 'Desired_Savings',\n",
    "       'Disposable_Income']]\n",
    "\n",
    "Y = df[['Potential_Savings_Groceries',\n",
    "       'Potential_Savings_Transport', 'Potential_Savings_Eating_Out',\n",
    "       'Potential_Savings_Entertainment', 'Potential_Savings_Utilities',\n",
    "       'Potential_Savings_Healthcare', 'Potential_Savings_Education',\n",
    "       'Potential_Savings_Miscellaneous']]"
   ]
  },
  {
   "cell_type": "code",
   "execution_count": 5,
   "metadata": {},
   "outputs": [
    {
     "data": {
      "text/html": [
       "<div>\n",
       "<style scoped>\n",
       "    .dataframe tbody tr th:only-of-type {\n",
       "        vertical-align: middle;\n",
       "    }\n",
       "\n",
       "    .dataframe tbody tr th {\n",
       "        vertical-align: top;\n",
       "    }\n",
       "\n",
       "    .dataframe thead th {\n",
       "        text-align: right;\n",
       "    }\n",
       "</style>\n",
       "<table border=\"1\" class=\"dataframe\">\n",
       "  <thead>\n",
       "    <tr style=\"text-align: right;\">\n",
       "      <th></th>\n",
       "      <th>Income</th>\n",
       "      <th>Age</th>\n",
       "      <th>Dependents</th>\n",
       "      <th>Rent</th>\n",
       "      <th>Loan_Repayment</th>\n",
       "      <th>Insurance</th>\n",
       "      <th>Groceries</th>\n",
       "      <th>Transport</th>\n",
       "      <th>Eating_Out</th>\n",
       "      <th>Entertainment</th>\n",
       "      <th>Utilities</th>\n",
       "      <th>Healthcare</th>\n",
       "      <th>Education</th>\n",
       "      <th>Miscellaneous</th>\n",
       "      <th>Desired_Savings_Percentage</th>\n",
       "      <th>Desired_Savings</th>\n",
       "      <th>Disposable_Income</th>\n",
       "    </tr>\n",
       "  </thead>\n",
       "  <tbody>\n",
       "    <tr>\n",
       "      <th>0</th>\n",
       "      <td>44637.249636</td>\n",
       "      <td>49</td>\n",
       "      <td>0</td>\n",
       "      <td>13391.174891</td>\n",
       "      <td>0.000000</td>\n",
       "      <td>2206.490129</td>\n",
       "      <td>6658.768341</td>\n",
       "      <td>2636.970696</td>\n",
       "      <td>1651.801726</td>\n",
       "      <td>1536.184255</td>\n",
       "      <td>2911.792231</td>\n",
       "      <td>1546.914539</td>\n",
       "      <td>0.000000</td>\n",
       "      <td>831.525120</td>\n",
       "      <td>13.890948</td>\n",
       "      <td>6200.537192</td>\n",
       "      <td>11265.627707</td>\n",
       "    </tr>\n",
       "    <tr>\n",
       "      <th>1</th>\n",
       "      <td>26858.596592</td>\n",
       "      <td>34</td>\n",
       "      <td>2</td>\n",
       "      <td>5371.719318</td>\n",
       "      <td>0.000000</td>\n",
       "      <td>869.522617</td>\n",
       "      <td>2818.444460</td>\n",
       "      <td>1543.018778</td>\n",
       "      <td>649.378103</td>\n",
       "      <td>1050.241738</td>\n",
       "      <td>1626.143346</td>\n",
       "      <td>1137.351325</td>\n",
       "      <td>1551.723167</td>\n",
       "      <td>564.235007</td>\n",
       "      <td>7.160376</td>\n",
       "      <td>1923.176434</td>\n",
       "      <td>9676.818733</td>\n",
       "    </tr>\n",
       "    <tr>\n",
       "      <th>2</th>\n",
       "      <td>50367.605084</td>\n",
       "      <td>35</td>\n",
       "      <td>1</td>\n",
       "      <td>7555.140763</td>\n",
       "      <td>4612.103386</td>\n",
       "      <td>2201.800050</td>\n",
       "      <td>6313.222081</td>\n",
       "      <td>3221.396403</td>\n",
       "      <td>1513.814376</td>\n",
       "      <td>1723.306926</td>\n",
       "      <td>3368.457108</td>\n",
       "      <td>2178.515847</td>\n",
       "      <td>3160.026299</td>\n",
       "      <td>628.371220</td>\n",
       "      <td>13.997808</td>\n",
       "      <td>7050.360422</td>\n",
       "      <td>13891.450624</td>\n",
       "    </tr>\n",
       "    <tr>\n",
       "      <th>3</th>\n",
       "      <td>101455.600247</td>\n",
       "      <td>21</td>\n",
       "      <td>0</td>\n",
       "      <td>15218.340037</td>\n",
       "      <td>6809.441427</td>\n",
       "      <td>4889.418087</td>\n",
       "      <td>14690.149363</td>\n",
       "      <td>7106.130005</td>\n",
       "      <td>5040.249158</td>\n",
       "      <td>2858.194240</td>\n",
       "      <td>6128.550387</td>\n",
       "      <td>4571.118217</td>\n",
       "      <td>0.000000</td>\n",
       "      <td>2526.055712</td>\n",
       "      <td>16.455440</td>\n",
       "      <td>16694.965136</td>\n",
       "      <td>31617.953615</td>\n",
       "    </tr>\n",
       "    <tr>\n",
       "      <th>4</th>\n",
       "      <td>24875.283548</td>\n",
       "      <td>52</td>\n",
       "      <td>4</td>\n",
       "      <td>4975.056710</td>\n",
       "      <td>3112.609398</td>\n",
       "      <td>635.907170</td>\n",
       "      <td>3034.329665</td>\n",
       "      <td>1276.155163</td>\n",
       "      <td>692.827225</td>\n",
       "      <td>660.186852</td>\n",
       "      <td>1092.689024</td>\n",
       "      <td>1169.095816</td>\n",
       "      <td>1445.215694</td>\n",
       "      <td>515.510300</td>\n",
       "      <td>7.533982</td>\n",
       "      <td>1874.099434</td>\n",
       "      <td>6265.700532</td>\n",
       "    </tr>\n",
       "  </tbody>\n",
       "</table>\n",
       "</div>"
      ],
      "text/plain": [
       "          Income  Age  Dependents          Rent  Loan_Repayment    Insurance  \\\n",
       "0   44637.249636   49           0  13391.174891        0.000000  2206.490129   \n",
       "1   26858.596592   34           2   5371.719318        0.000000   869.522617   \n",
       "2   50367.605084   35           1   7555.140763     4612.103386  2201.800050   \n",
       "3  101455.600247   21           0  15218.340037     6809.441427  4889.418087   \n",
       "4   24875.283548   52           4   4975.056710     3112.609398   635.907170   \n",
       "\n",
       "      Groceries    Transport   Eating_Out  Entertainment    Utilities  \\\n",
       "0   6658.768341  2636.970696  1651.801726    1536.184255  2911.792231   \n",
       "1   2818.444460  1543.018778   649.378103    1050.241738  1626.143346   \n",
       "2   6313.222081  3221.396403  1513.814376    1723.306926  3368.457108   \n",
       "3  14690.149363  7106.130005  5040.249158    2858.194240  6128.550387   \n",
       "4   3034.329665  1276.155163   692.827225     660.186852  1092.689024   \n",
       "\n",
       "    Healthcare    Education  Miscellaneous  Desired_Savings_Percentage  \\\n",
       "0  1546.914539     0.000000     831.525120                   13.890948   \n",
       "1  1137.351325  1551.723167     564.235007                    7.160376   \n",
       "2  2178.515847  3160.026299     628.371220                   13.997808   \n",
       "3  4571.118217     0.000000    2526.055712                   16.455440   \n",
       "4  1169.095816  1445.215694     515.510300                    7.533982   \n",
       "\n",
       "   Desired_Savings  Disposable_Income  \n",
       "0      6200.537192       11265.627707  \n",
       "1      1923.176434        9676.818733  \n",
       "2      7050.360422       13891.450624  \n",
       "3     16694.965136       31617.953615  \n",
       "4      1874.099434        6265.700532  "
      ]
     },
     "execution_count": 5,
     "metadata": {},
     "output_type": "execute_result"
    }
   ],
   "source": [
    "X.head()"
   ]
  },
  {
   "cell_type": "code",
   "execution_count": 6,
   "metadata": {},
   "outputs": [],
   "source": [
    "from sklearn.preprocessing import StandardScaler\n",
    "\n",
    "scaler_X = StandardScaler()\n",
    "scaler_y = StandardScaler()\n",
    "\n",
    "X = pd.DataFrame(scaler_X.fit_transform(X))\n",
    "Y = pd.DataFrame(scaler_y.fit_transform(Y))"
   ]
  },
  {
   "cell_type": "code",
   "execution_count": 7,
   "metadata": {},
   "outputs": [
    {
     "name": "stdout",
     "output_type": "stream",
     "text": [
      "17\n",
      "8\n"
     ]
    }
   ],
   "source": [
    "ar1 = ['Income', 'Age', 'Dependents', 'Rent',\n",
    "       'Loan_Repayment', 'Insurance', 'Groceries', 'Transport', 'Eating_Out',\n",
    "       'Entertainment', 'Utilities', 'Healthcare', 'Education',\n",
    "       'Miscellaneous', 'Desired_Savings_Percentage', 'Desired_Savings',\n",
    "       'Disposable_Income']\n",
    "\n",
    "ar2 = ['Potential_Savings_Groceries',\n",
    "       'Potential_Savings_Transport', 'Potential_Savings_Eating_Out',\n",
    "       'Potential_Savings_Entertainment', 'Potential_Savings_Utilities',\n",
    "       'Potential_Savings_Healthcare', 'Potential_Savings_Education',\n",
    "       'Potential_Savings_Miscellaneous']\n",
    "\n",
    "print(len(ar1))\n",
    "print(len(ar2))"
   ]
  },
  {
   "cell_type": "code",
   "execution_count": 8,
   "metadata": {},
   "outputs": [],
   "source": [
    "from sklearn.model_selection import train_test_split"
   ]
  },
  {
   "cell_type": "code",
   "execution_count": 9,
   "metadata": {},
   "outputs": [],
   "source": [
    "from torch.utils.data import Dataset,DataLoader\n",
    "from torch.utils.data import TensorDataset\n",
    "\n",
    "\n",
    "X_train, X_test, y_train, y_test = train_test_split(X, Y, test_size=0.2, random_state=42)\n",
    "\n",
    "\n",
    "X_train_tensor = torch.tensor(X_train.values, dtype=torch.float32)\n",
    "y_train_tensor = torch.tensor(y_train.values, dtype=torch.float32)\n",
    "X_test_tensor = torch.tensor(X_test.values, dtype=torch.float32)\n",
    "y_test_tensor = torch.tensor(y_test.values, dtype=torch.float32)\n",
    "\n",
    "\n",
    "train_dataset = TensorDataset(X_train_tensor, y_train_tensor)\n",
    "test_dataset = TensorDataset(X_test_tensor, y_test_tensor)\n",
    "train_loader = DataLoader(train_dataset, batch_size=16, shuffle=True)\n",
    "test_loader = DataLoader(test_dataset, batch_size=16, shuffle=False)\n"
   ]
  },
  {
   "cell_type": "code",
   "execution_count": 10,
   "metadata": {},
   "outputs": [],
   "source": [
    "class ClassicalANN(nn.Module):\n",
    "\n",
    "    def __init__(self,in_features=5):\n",
    "        super().__init__()\n",
    "        self.fc1 = nn.Linear(17,64)\n",
    "        self.fc2 = nn.Linear(64,32)\n",
    "        self.fc7 = nn.Linear(32,8)\n",
    "\n",
    "    def forward(self,x):\n",
    "        x = F.relu(self.fc1(x))\n",
    "        x = F.relu(self.fc2(x))\n",
    "        x = self.fc7(x)\n",
    "\n",
    "        return x"
   ]
  },
  {
   "cell_type": "code",
   "execution_count": 11,
   "metadata": {},
   "outputs": [],
   "source": [
    "import torch.optim as optim\n",
    "\n",
    "model = ClassicalANN()\n",
    "\n",
    "criterion = nn.MSELoss()\n",
    "optimizer = optim.Adam(model.parameters(), lr=0.001)\n"
   ]
  },
  {
   "cell_type": "code",
   "execution_count": 12,
   "metadata": {},
   "outputs": [
    {
     "name": "stdout",
     "output_type": "stream",
     "text": [
      "Epoch 1/50, Loss: 0.3668\n",
      "Epoch 2/50, Loss: 0.3126\n",
      "Epoch 3/50, Loss: 0.2997\n",
      "Epoch 4/50, Loss: 0.2972\n",
      "Epoch 5/50, Loss: 0.2966\n",
      "Epoch 6/50, Loss: 0.2931\n",
      "Epoch 7/50, Loss: 0.2906\n",
      "Epoch 8/50, Loss: 0.2923\n",
      "Epoch 9/50, Loss: 0.2877\n",
      "Epoch 10/50, Loss: 0.2895\n",
      "Epoch 11/50, Loss: 0.2854\n",
      "Epoch 12/50, Loss: 0.2867\n",
      "Epoch 13/50, Loss: 0.2852\n",
      "Epoch 14/50, Loss: 0.2836\n",
      "Epoch 15/50, Loss: 0.2821\n",
      "Epoch 16/50, Loss: 0.2826\n",
      "Epoch 17/50, Loss: 0.2800\n",
      "Epoch 18/50, Loss: 0.2791\n",
      "Epoch 19/50, Loss: 0.2784\n",
      "Epoch 20/50, Loss: 0.2778\n",
      "Epoch 21/50, Loss: 0.2783\n",
      "Epoch 22/50, Loss: 0.2774\n",
      "Epoch 23/50, Loss: 0.2777\n",
      "Epoch 24/50, Loss: 0.2754\n",
      "Epoch 25/50, Loss: 0.2739\n",
      "Epoch 26/50, Loss: 0.2740\n",
      "Epoch 27/50, Loss: 0.2738\n",
      "Epoch 28/50, Loss: 0.2709\n",
      "Epoch 29/50, Loss: 0.2726\n",
      "Epoch 30/50, Loss: 0.2701\n",
      "Epoch 31/50, Loss: 0.2706\n",
      "Epoch 32/50, Loss: 0.2708\n",
      "Epoch 33/50, Loss: 0.2695\n",
      "Epoch 34/50, Loss: 0.2672\n",
      "Epoch 35/50, Loss: 0.2696\n",
      "Epoch 36/50, Loss: 0.2657\n",
      "Epoch 37/50, Loss: 0.2660\n",
      "Epoch 38/50, Loss: 0.2660\n",
      "Epoch 39/50, Loss: 0.2657\n",
      "Epoch 40/50, Loss: 0.2642\n",
      "Epoch 41/50, Loss: 0.2639\n",
      "Epoch 42/50, Loss: 0.2623\n",
      "Epoch 43/50, Loss: 0.2614\n",
      "Epoch 44/50, Loss: 0.2620\n",
      "Epoch 45/50, Loss: 0.2622\n",
      "Epoch 46/50, Loss: 0.2612\n",
      "Epoch 47/50, Loss: 0.2587\n",
      "Epoch 48/50, Loss: 0.2590\n",
      "Epoch 49/50, Loss: 0.2583\n",
      "Epoch 50/50, Loss: 0.2564\n"
     ]
    }
   ],
   "source": [
    "# Training loop\n",
    "epochs = 50\n",
    "for epoch in range(epochs):\n",
    "    model.train()\n",
    "    total_loss = 0\n",
    "    for X_batch, y_batch in train_loader:\n",
    "        optimizer.zero_grad()\n",
    "        outputs = model(X_batch)\n",
    "        loss = criterion(outputs, y_batch)\n",
    "        loss.backward()\n",
    "        optimizer.step()\n",
    "        total_loss += loss.item()\n",
    "    \n",
    "    print(f\"Epoch {epoch+1}/{epochs}, Loss: {total_loss/len(train_loader):.4f}\")\n"
   ]
  },
  {
   "cell_type": "code",
   "execution_count": 13,
   "metadata": {},
   "outputs": [
    {
     "name": "stdout",
     "output_type": "stream",
     "text": [
      "Test Loss: 0.3717\n"
     ]
    }
   ],
   "source": [
    "# Evaluation\n",
    "model.eval()\n",
    "total_loss = 0\n",
    "with torch.no_grad():\n",
    "    for X_batch, y_batch in test_loader:\n",
    "        outputs = model(X_batch)\n",
    "        loss = criterion(outputs, y_batch)\n",
    "        total_loss += loss.item()\n",
    "print(f\"Test Loss: {total_loss/len(test_loader):.4f}\")"
   ]
  },
  {
   "cell_type": "code",
   "execution_count": 14,
   "metadata": {},
   "outputs": [],
   "source": [
    "torch.save(model.state_dict(),\"model.pth\")"
   ]
  },
  {
   "cell_type": "code",
   "execution_count": null,
   "metadata": {},
   "outputs": [],
   "source": []
  }
 ],
 "metadata": {
  "kernelspec": {
   "display_name": "ICEPaper",
   "language": "python",
   "name": "python3"
  },
  "language_info": {
   "codemirror_mode": {
    "name": "ipython",
    "version": 3
   },
   "file_extension": ".py",
   "mimetype": "text/x-python",
   "name": "python",
   "nbconvert_exporter": "python",
   "pygments_lexer": "ipython3",
   "version": "3.12.4"
  }
 },
 "nbformat": 4,
 "nbformat_minor": 2
}
